{
  "nbformat": 4,
  "nbformat_minor": 0,
  "metadata": {
    "colab": {
      "name": "Untitled4.ipynb",
      "provenance": []
    },
    "kernelspec": {
      "name": "python3",
      "display_name": "Python 3"
    },
    "language_info": {
      "name": "python"
    }
  },
  "cells": [
    {
      "cell_type": "code",
      "source": [
        "aditya={\n",
        "    \"aditya\" :\"dubey\",\n",
        "    \"Branch\" : \"CSIT\",\n",
        "    \"City \"  :\"Indore\"\n",
        "        }\n",
        "print(aditya)"
      ],
      "metadata": {
        "id": "NNBob4XaSLJ5",
        "colab": {
          "base_uri": "https://localhost:8080/"
        },
        "outputId": "d6800e5f-c446-45ee-ac85-75310cb10a57"
      },
      "execution_count": 3,
      "outputs": [
        {
          "output_type": "stream",
          "name": "stdout",
          "text": [
            "{'aditya': 'dubey', 'Branch': 'CSIT', 'City ': 'Indore'}\n"
          ]
        }
      ]
    },
    {
      "cell_type": "markdown",
      "source": [
        "Demonstrate application of Dictionary by taking birthday month as an input and count number of birthdays in particular month by taking month as key . identify max number and minimum number of birthday"
      ],
      "metadata": {
        "id": "bYcGpFoMTbld"
      }
    },
    {
      "cell_type": "code",
      "source": [
        "birthday={\"jan\":0,\"feb\":0,\"mar\":0,\"apr\":0,\"may\":1,\"june\":0,\"july\":0,\"aug\":0,\"sep\":0,\"oct\":0,\"nov\":0,\"dec\":0}\n",
        "while(True):\n",
        "  mon=input()\n",
        "  if mon ==\"\":\n",
        "    break\n",
        "  else:\n",
        "    birthday[mon]=birthday[mon]+1\n",
        "\n",
        "minv=birthday[\"jan\"]\n",
        "for i in birthday.keys():\n",
        "  if birthday[i]<minv:\n",
        "    minv=birthday[i]\n",
        "\n",
        "maxv=birthday[\"jan\"]\n",
        "for i in birthday.keys():\n",
        "  if birthday[i]>maxv:\n",
        "    maxv=birthday[i]\n",
        "\n",
        "print(birthday)\n",
        "print(f\"Minimum no of birthday in a month are {minv} \")\n",
        "print(f\"Maximum no of birthday in a month are {maxv} \")"
      ],
      "metadata": {
        "colab": {
          "base_uri": "https://localhost:8080/"
        },
        "id": "noPSQvu4Tff1",
        "outputId": "00687a3f-9b96-45d1-ae97-aae82375d522"
      },
      "execution_count": 5,
      "outputs": [
        {
          "output_type": "stream",
          "name": "stdout",
          "text": [
            "jan\n",
            "feb\n",
            "feb\n",
            "feb\n",
            "oct\n",
            "oct\n",
            "aug\n",
            "dec\n",
            "nov\n",
            "\n",
            "{'jan': 1, 'feb': 3, 'mar': 0, 'apr': 0, 'may': 1, 'june': 0, 'july': 0, 'aug': 1, 'sep': 0, 'oct': 2, 'nov': 1, 'dec': 1}\n",
            "Minimum no of birthday in a month are 0 \n",
            "Maximum no of birthday in a month are 3 \n"
          ]
        }
      ]
    },
    {
      "cell_type": "code",
      "source": [
        ""
      ],
      "metadata": {
        "id": "2LVfGAEGso2L"
      },
      "execution_count": null,
      "outputs": []
    }
  ]
}