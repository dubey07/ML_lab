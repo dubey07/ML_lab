{
  "nbformat": 4,
  "nbformat_minor": 0,
  "metadata": {
    "colab": {
      "name": "lab3.ipynb",
      "provenance": []
    },
    "kernelspec": {
      "name": "python3",
      "display_name": "Python 3"
    },
    "language_info": {
      "name": "python"
    }
  },
  "cells": [
    {
      "cell_type": "code",
      "execution_count": 1,
      "metadata": {
        "colab": {
          "base_uri": "https://localhost:8080/"
        },
        "id": "PZg75PdvEo9-",
        "outputId": "6513a032-c3ee-4518-b1fd-127cc9c39764"
      },
      "outputs": [
        {
          "output_type": "stream",
          "name": "stdout",
          "text": [
            "[1 2 3]\n"
          ]
        }
      ],
      "source": [
        "import numpy as np\n",
        "\n",
        "new_array = np.array([1,2,3])\n",
        "\n",
        "print(new_array)"
      ]
    },
    {
      "cell_type": "code",
      "source": [
        "# shape\n",
        "print(new_array.shape)\n",
        "\n",
        "# dimensions\n",
        "print(new_array.ndim)\n",
        "\n",
        "# size\n",
        "print(new_array.size)"
      ],
      "metadata": {
        "colab": {
          "base_uri": "https://localhost:8080/"
        },
        "id": "uXu3Mj7AEz-P",
        "outputId": "ffacd895-9cac-4984-9d9d-6045a728e188"
      },
      "execution_count": 2,
      "outputs": [
        {
          "output_type": "stream",
          "name": "stdout",
          "text": [
            "(3,)\n",
            "1\n",
            "3\n"
          ]
        }
      ]
    },
    {
      "cell_type": "code",
      "source": [
        "array = np.arange(0,10,1)\n",
        "print(array.dtype)"
      ],
      "metadata": {
        "colab": {
          "base_uri": "https://localhost:8080/"
        },
        "id": "H5JmIuwDE4LZ",
        "outputId": "902343a0-539a-4cd1-9b66-75df161fc38c"
      },
      "execution_count": 3,
      "outputs": [
        {
          "output_type": "stream",
          "name": "stdout",
          "text": [
            "int64\n"
          ]
        }
      ]
    },
    {
      "cell_type": "code",
      "source": [
        "# Creating a sequence from 0 to 42 elements with elements increasing by 1 using np.arange\n",
        "array = np.arange(0,42,1)\n",
        "print(array)\n",
        "print(\"---\")\n",
        "\n",
        "# Inserting 42 elements between 0 and 100 with np.linspace\n",
        "array = np.linspace(0,100,42)\n",
        "print(array)\n",
        "print(\"---\")"
      ],
      "metadata": {
        "colab": {
          "base_uri": "https://localhost:8080/"
        },
        "id": "2ZpqjgesE914",
        "outputId": "08064a1a-b726-4cfb-aea1-f18ec33d5b3f"
      },
      "execution_count": 6,
      "outputs": [
        {
          "output_type": "stream",
          "name": "stdout",
          "text": [
            "[ 0  1  2  3  4  5  6  7  8  9 10 11 12 13 14 15 16 17 18 19 20 21 22 23\n",
            " 24 25 26 27 28 29 30 31 32 33 34 35 36 37 38 39 40 41]\n",
            "---\n",
            "[  0.           2.43902439   4.87804878   7.31707317   9.75609756\n",
            "  12.19512195  14.63414634  17.07317073  19.51219512  21.95121951\n",
            "  24.3902439   26.82926829  29.26829268  31.70731707  34.14634146\n",
            "  36.58536585  39.02439024  41.46341463  43.90243902  46.34146341\n",
            "  48.7804878   51.2195122   53.65853659  56.09756098  58.53658537\n",
            "  60.97560976  63.41463415  65.85365854  68.29268293  70.73170732\n",
            "  73.17073171  75.6097561   78.04878049  80.48780488  82.92682927\n",
            "  85.36585366  87.80487805  90.24390244  92.68292683  95.12195122\n",
            "  97.56097561 100.        ]\n",
            "---\n"
          ]
        }
      ]
    }
  ]
}