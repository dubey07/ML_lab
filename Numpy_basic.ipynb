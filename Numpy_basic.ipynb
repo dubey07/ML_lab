{
  "nbformat": 4,
  "nbformat_minor": 0,
  "metadata": {
    "colab": {
      "name": "Numpy_basic.ipynb",
      "provenance": []
    },
    "kernelspec": {
      "name": "python3",
      "display_name": "Python 3"
    },
    "language_info": {
      "name": "python"
    }
  },
  "cells": [
    {
      "cell_type": "code",
      "source": [
        "import numpy as np\n",
        "arr=np.array([[[2,3,4],[5,6,7]],[[2,3,4],[5,6,7],],[[2,3,4],[5,6,7]]])\n",
        "print(arr)\n",
        "print(arr.shape)\n",
        "print(arr.ndim)\n",
        "print(arr.size)\n",
        "ar=np.arange(24).reshape(6,4)\n",
        "print(ar)"
      ],
      "metadata": {
        "colab": {
          "base_uri": "https://localhost:8080/"
        },
        "id": "Ns2bUHPLwWOT",
        "outputId": "a5f39680-0ffd-43cb-abf1-1da80a9dbf6c"
      },
      "execution_count": 18,
      "outputs": [
        {
          "output_type": "stream",
          "name": "stdout",
          "text": [
            "[[[2 3 4]\n",
            "  [5 6 7]]\n",
            "\n",
            " [[2 3 4]\n",
            "  [5 6 7]]\n",
            "\n",
            " [[2 3 4]\n",
            "  [5 6 7]]]\n",
            "(3, 2, 3)\n",
            "3\n",
            "18\n",
            "[[ 0  1  2  3]\n",
            " [ 4  5  6  7]\n",
            " [ 8  9 10 11]\n",
            " [12 13 14 15]\n",
            " [16 17 18 19]\n",
            " [20 21 22 23]]\n"
          ]
        }
      ]
    },
    {
      "cell_type": "code",
      "source": [
        "(ar.resize(8,3))\n",
        "print(ar)"
      ],
      "metadata": {
        "colab": {
          "base_uri": "https://localhost:8080/"
        },
        "id": "2bXbgww4waJ_",
        "outputId": "e897026c-c8c7-4b76-d826-ccaf20680512"
      },
      "execution_count": 19,
      "outputs": [
        {
          "output_type": "stream",
          "name": "stdout",
          "text": [
            "[[ 0  1  2]\n",
            " [ 3  4  5]\n",
            " [ 6  7  8]\n",
            " [ 9 10 11]\n",
            " [12 13 14]\n",
            " [15 16 17]\n",
            " [18 19 20]\n",
            " [21 22 23]]\n"
          ]
        }
      ]
    },
    {
      "cell_type": "code",
      "source": [
        "print(ar.dtype)"
      ],
      "metadata": {
        "colab": {
          "base_uri": "https://localhost:8080/"
        },
        "id": "T1Z5829dwcgI",
        "outputId": "f948dc80-20c4-44e8-d35f-0e8dc9662fd2"
      },
      "execution_count": 20,
      "outputs": [
        {
          "output_type": "stream",
          "name": "stdout",
          "text": [
            "int64\n"
          ]
        }
      ]
    },
    {
      "cell_type": "code",
      "source": [
        "a=np.array([[[2,3,4],[5,6,7]],[[2,3,4],[5,6,7],],[[2,3,4],[5,6,7]]],dtype=complex) \n",
        "print(a.dtype)"
      ],
      "metadata": {
        "colab": {
          "base_uri": "https://localhost:8080/"
        },
        "id": "DDwgeQC9whcp",
        "outputId": "eebec367-27ed-4a70-b1aa-ecaca0aab425"
      },
      "execution_count": 21,
      "outputs": [
        {
          "output_type": "stream",
          "name": "stdout",
          "text": [
            "complex128\n"
          ]
        }
      ]
    },
    {
      "cell_type": "code",
      "source": [
        "e=np.empty((2,3,4))\n",
        "print(e)"
      ],
      "metadata": {
        "colab": {
          "base_uri": "https://localhost:8080/"
        },
        "id": "KUMNJlnHwlcA",
        "outputId": "4a210491-243b-4c00-a266-5133d2a8c734"
      },
      "execution_count": 22,
      "outputs": [
        {
          "output_type": "stream",
          "name": "stdout",
          "text": [
            "[[[2.1436884e-316 0.0000000e+000 0.0000000e+000 0.0000000e+000]\n",
            "  [0.0000000e+000 0.0000000e+000 0.0000000e+000 0.0000000e+000]\n",
            "  [0.0000000e+000 0.0000000e+000 0.0000000e+000 0.0000000e+000]]\n",
            "\n",
            " [[0.0000000e+000 0.0000000e+000 0.0000000e+000 0.0000000e+000]\n",
            "  [0.0000000e+000 0.0000000e+000 0.0000000e+000 0.0000000e+000]\n",
            "  [0.0000000e+000 0.0000000e+000 0.0000000e+000 0.0000000e+000]]]\n"
          ]
        }
      ]
    },
    {
      "cell_type": "code",
      "source": [
        "e=np.ones((2,3),dtype=np.int16)\n",
        "print(e)"
      ],
      "metadata": {
        "colab": {
          "base_uri": "https://localhost:8080/"
        },
        "id": "LaDJAxovwoi5",
        "outputId": "aea6b750-6dc9-4315-cc76-765dab7f475d"
      },
      "execution_count": 23,
      "outputs": [
        {
          "output_type": "stream",
          "name": "stdout",
          "text": [
            "[[1 1 1]\n",
            " [1 1 1]]\n"
          ]
        }
      ]
    },
    {
      "cell_type": "code",
      "source": [
        "print(e.size)\n",
        "print(e.shape)\n",
        "print(e.ndim)"
      ],
      "metadata": {
        "colab": {
          "base_uri": "https://localhost:8080/"
        },
        "id": "IwpIB9-2wrG2",
        "outputId": "e12c8f39-7eaa-4b0a-b28b-d26e5f1b8780"
      },
      "execution_count": 24,
      "outputs": [
        {
          "output_type": "stream",
          "name": "stdout",
          "text": [
            "6\n",
            "(2, 3)\n",
            "2\n"
          ]
        }
      ]
    },
    {
      "cell_type": "code",
      "source": [
        "print(np.linspace(1,2,3))\n",
        "print(np.random)\n",
        "p=e.flatten()\n",
        "print(p)\n",
        "print(np.arange(0,60,10).reshape(2,3))\n",
        "l=np.random.random((2,3))\n",
        "print(l)\n",
        "k=np.zeros((4,5))\n",
        "print(k)"
      ],
      "metadata": {
        "colab": {
          "base_uri": "https://localhost:8080/"
        },
        "id": "vht_PugDww6p",
        "outputId": "030c0440-2c22-49bc-d053-24105bd8f240"
      },
      "execution_count": 25,
      "outputs": [
        {
          "output_type": "stream",
          "name": "stdout",
          "text": [
            "[1.  1.5 2. ]\n",
            "<module 'numpy.random' from '/usr/local/lib/python3.7/dist-packages/numpy/random/__init__.py'>\n",
            "[1 1 1 1 1 1]\n",
            "[[ 0 10 20]\n",
            " [30 40 50]]\n",
            "[[0.2925254  0.19168283 0.77659915]\n",
            " [0.645485   0.86988218 0.91439512]]\n",
            "[[0. 0. 0. 0. 0.]\n",
            " [0. 0. 0. 0. 0.]\n",
            " [0. 0. 0. 0. 0.]\n",
            " [0. 0. 0. 0. 0.]]\n"
          ]
        }
      ]
    }
  ]
}