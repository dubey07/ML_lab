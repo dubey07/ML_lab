{
  "nbformat": 4,
  "nbformat_minor": 0,
  "metadata": {
    "colab": {
      "name": "list.ipynb",
      "provenance": []
    },
    "kernelspec": {
      "name": "python3",
      "display_name": "Python 3"
    },
    "language_info": {
      "name": "python"
    }
  },
  "cells": [
    {
      "cell_type": "code",
      "source": [
        "list1 = [\"aditya\", \"ujjwal\", \"vishal\", \"ankit\"]\n",
        "print(list1)"
      ],
      "metadata": {
        "id": "NNBob4XaSLJ5",
        "colab": {
          "base_uri": "https://localhost:8080/"
        },
        "outputId": "1eab1cb3-5a66-4779-efbe-3b8f56b6ead3"
      },
      "execution_count": 6,
      "outputs": [
        {
          "output_type": "stream",
          "name": "stdout",
          "text": [
            "['aditya', 'ujjwal', 'vishal', 'ankit']\n"
          ]
        }
      ]
    },
    {
      "cell_type": "code",
      "source": [
        "print(list1.sort())\n",
        "print(list1)"
      ],
      "metadata": {
        "colab": {
          "base_uri": "https://localhost:8080/"
        },
        "id": "2LVfGAEGso2L",
        "outputId": "8f508567-2692-4a9e-aa07-2d9d422446c1"
      },
      "execution_count": 7,
      "outputs": [
        {
          "output_type": "stream",
          "name": "stdout",
          "text": [
            "None\n",
            "['aditya', 'ankit', 'ujjwal', 'vishal']\n"
          ]
        }
      ]
    },
    {
      "cell_type": "code",
      "source": [
        "List2=[\"0827CI191001\",\"CSIT\",8.95,8.01,8.88,7.25]\n",
        "print(List2)\n",
        "print(List2[0])\n",
        "print(List2.reverse())\n",
        "print(List2)\n",
        "print(List2[1:3])\n",
        "List2.pop()\n",
        "print(List2)"
      ],
      "metadata": {
        "colab": {
          "base_uri": "https://localhost:8080/"
        },
        "id": "KhKJJRLcuBGj",
        "outputId": "4f5013e9-eb75-4a37-8e9f-2a4bd4230327"
      },
      "execution_count": 8,
      "outputs": [
        {
          "output_type": "stream",
          "name": "stdout",
          "text": [
            "['0827CI191001', 'CSIT', 8.95, 8.01, 8.88, 7.25]\n",
            "0827CI191001\n",
            "None\n",
            "[7.25, 8.88, 8.01, 8.95, 'CSIT', '0827CI191001']\n",
            "[8.88, 8.01]\n",
            "[7.25, 8.88, 8.01, 8.95, 'CSIT']\n"
          ]
        }
      ]
    },
    {
      "cell_type": "code",
      "source": [
        "M=[1,2,3,4,5,6]\n",
        "print(max(M))\n",
        "print(min(M))\n",
        "G=M[0:3]\n",
        "print(G)\n",
        "print(M)\n",
        "M.append(7)\n",
        "print(M)\n",
        "M.extend(List2)\n",
        "print(M)"
      ],
      "metadata": {
        "colab": {
          "base_uri": "https://localhost:8080/"
        },
        "id": "6EnM-d5buKee",
        "outputId": "84d9e2a0-0ac5-473a-bd71-73fa23674f11"
      },
      "execution_count": 9,
      "outputs": [
        {
          "output_type": "stream",
          "name": "stdout",
          "text": [
            "6\n",
            "1\n",
            "[1, 2, 3]\n",
            "[1, 2, 3, 4, 5, 6]\n",
            "[1, 2, 3, 4, 5, 6, 7]\n",
            "[1, 2, 3, 4, 5, 6, 7, 7.25, 8.88, 8.01, 8.95, 'CSIT']\n"
          ]
        }
      ]
    }
  ]
}